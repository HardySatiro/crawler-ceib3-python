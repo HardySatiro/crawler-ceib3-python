{
 "cells": [
  {
   "cell_type": "code",
   "execution_count": 8,
   "id": "e1a1d22f-469e-47bd-b80f-837204712944",
   "metadata": {},
   "outputs": [],
   "source": [
    "import os\n",
    "os.chdir('..')"
   ]
  },
  {
   "cell_type": "code",
   "execution_count": 10,
   "id": "885f375d-fb9c-4dca-8fb5-ee7118b608e5",
   "metadata": {},
   "outputs": [],
   "source": [
    "from v1.modules.page_manager import PageManager\n",
    "from v1.modules.utils import parseNumber\n",
    "import requests\n",
    "from lxml import html\n",
    "import math\n",
    "os.environ['HEADLESS'] =\"True\"\n",
    "\n",
    "def get_project_price(ticker):\n",
    "    try:\n",
    "        res = requests.get(f\"https://investidor10.com.br/acoes/{ticker}/\")\n",
    "        tree = html.fromstring(res.content)\n",
    "        vpa = tree.xpath('//*[@id=\"table-indicators\"]/div[17]/div[1]/span')[0].text\n",
    "        lpa = tree.xpath('//*[@id=\"table-indicators\"]/div[18]/div[1]/span')[0].text\n",
    "        vpa = parseNumber(vpa)\n",
    "        lpa = parseNumber(lpa)\n",
    "        project_price = math.sqrt(22.5*vpa*lpa)\n",
    "        return project_price\n",
    "    except:\n",
    "        pass"
   ]
  },
  {
   "cell_type": "code",
   "execution_count": 11,
   "id": "64833f02-b7be-4b2f-a847-b0a22c7dc6c4",
   "metadata": {},
   "outputs": [
    {
     "name": "stderr",
     "output_type": "stream",
     "text": [
      "[WDM] - Downloading: 100%|████████████████████████████████████████████████████████| 6.68M/6.68M [00:00<00:00, 10.1MB/s]\n"
     ]
    }
   ],
   "source": [
    "driver = PageManager()"
   ]
  },
  {
   "cell_type": "code",
   "execution_count": 12,
   "id": "3a19dab6-a753-4d7e-a1cd-e38277427dab",
   "metadata": {},
   "outputs": [],
   "source": [
    "driver.open_url(\"https://ceiapp.b3.com.br/CEI_Responsivo/\")"
   ]
  },
  {
   "cell_type": "code",
   "execution_count": null,
   "id": "090e1f92-9489-4ad2-84e8-a6b284b293f0",
   "metadata": {},
   "outputs": [],
   "source": [
    "user = \"\"\n",
    "password = \"\""
   ]
  },
  {
   "cell_type": "code",
   "execution_count": 8,
   "id": "411a186d-fabd-46be-9084-ea44b608fcdf",
   "metadata": {},
   "outputs": [],
   "source": [
    "for val in user:  # typing letter by letter because the site doesn't work with word\n",
    "    driver.find('//*[@id=\"ctl00_ContentPlaceHolder1_txtLogin\"]', \"xpath\").send_keys(val, delay_before=0.2, delay_after=0)\n",
    "for val in password:  # typing letter by letter because the site doesn't work with word\n",
    "    driver.find('//*[@id=\"ctl00_ContentPlaceHolder1_txtSenha\"]', \"xpath\").send_keys(val, delay_before=0.2, delay_after=0)"
   ]
  },
  {
   "cell_type": "code",
   "execution_count": 9,
   "id": "a85fe164-819b-455f-8a87-f7f66b960d61",
   "metadata": {},
   "outputs": [],
   "source": [
    "driver.find('//*[@id=\"ctl00_ContentPlaceHolder1_btnLogar\"]', \"xpath\").click(delay_after=0.5)\n",
    "driver.find('//*[@id=\"ctl00_ContentPlaceHolder1_sectionCarteiraAtivos\"]/p/a', \"xpath\").click(delay_after=0.3)\n",
    "driver.find('//*[@id=\"ctl00_ContentPlaceHolder1_repTabelaAtivos_ctl03_LinkButton2\"]', \"xpath\").click()"
   ]
  },
  {
   "cell_type": "code",
   "execution_count": 38,
   "id": "5f57958e-43ae-4861-bd2f-54f87232cef5",
   "metadata": {},
   "outputs": [],
   "source": [
    "list_portfolio = []\n",
    "company_elements = driver.findall('//*[@id=\"ctl00_ContentPlaceHolder1_rptAgenteContaMercado_ctl00_rptContaMercado_ctl00_rprCarteira_ctl00_grdCarteira\"]/tbody/tr/td[1]', \"xpath\")\n",
    "type_elements = driver.findall('//*[@id=\"ctl00_ContentPlaceHolder1_rptAgenteContaMercado_ctl00_rptContaMercado_ctl00_rprCarteira_ctl00_grdCarteira\"]/tbody/tr/td[2]', \"xpath\")\n",
    "code_elements = driver.findall('//*[@id=\"ctl00_ContentPlaceHolder1_rptAgenteContaMercado_ctl00_rptContaMercado_ctl00_rprCarteira_ctl00_grdCarteira\"]/tbody/tr/td[3]', \"xpath\")\n",
    "value_elements = driver.findall('//*[@id=\"ctl00_ContentPlaceHolder1_rptAgenteContaMercado_ctl00_rptContaMercado_ctl00_rprCarteira_ctl00_grdCarteira\"]/tbody/tr/td[5]', \"xpath\")\n",
    "qtde_elements = driver.findall('//*[@id=\"ctl00_ContentPlaceHolder1_rptAgenteContaMercado_ctl00_rptContaMercado_ctl00_rprCarteira_ctl00_grdCarteira\"]/tbody/tr/td[6]', \"xpath\")\n",
    "total_value_elements = driver.findall('//*[@id=\"ctl00_ContentPlaceHolder1_rptAgenteContaMercado_ctl00_rptContaMercado_ctl00_rprCarteira_ctl00_grdCarteira\"]/tbody/tr/td[8]', \"xpath\")"
   ]
  },
  {
   "cell_type": "code",
   "execution_count": 42,
   "id": "1ab2d7c0-1bac-4d8b-abd2-c53aada3ae59",
   "metadata": {
    "scrolled": true,
    "tags": []
   },
   "outputs": [],
   "source": [
    "for company, type_,value, code, qtde,total_value in zip(company_elements, type_elements, code_elements, value_elements, qtde_elements, total_value_elements):\n",
    "    list_portfolio.append({\"company\": company.text, \"type\":type_.text, \"value\":value.text, \"code\":code.text, \"qtde\":qtde.text, \"totalValue\":total_value.text})"
   ]
  },
  {
   "cell_type": "code",
   "execution_count": null,
   "id": "8d153277-61d6-441b-bd5a-983ce99bfc5d",
   "metadata": {},
   "outputs": [],
   "source": []
  }
 ],
 "metadata": {
  "kernelspec": {
   "display_name": "Python 3 (ipykernel)",
   "language": "python",
   "name": "python3"
  },
  "language_info": {
   "codemirror_mode": {
    "name": "ipython",
    "version": 3
   },
   "file_extension": ".py",
   "mimetype": "text/x-python",
   "name": "python",
   "nbconvert_exporter": "python",
   "pygments_lexer": "ipython3",
   "version": "3.8.13"
  }
 },
 "nbformat": 4,
 "nbformat_minor": 5
}
